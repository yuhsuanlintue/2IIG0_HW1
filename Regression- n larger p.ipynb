{
 "cells": [
  {
   "cell_type": "code",
   "execution_count": 1,
   "metadata": {},
   "outputs": [],
   "source": [
    "import numpy as np\n",
    "import matplotlib.pyplot as plt\n",
    "import pandas\n",
    "import scipy\n",
    "import scipy.linalg as linalg"
   ]
  },
  {
   "cell_type": "code",
   "execution_count": 2,
   "metadata": {},
   "outputs": [],
   "source": [
    "np.set_printoptions(precision=5,suppress=True)"
   ]
  },
  {
   "cell_type": "markdown",
   "metadata": {},
   "source": [
    "# Example for Regression with p>n\n",
    "We consider our toy example with three data points."
   ]
  },
  {
   "cell_type": "code",
   "execution_count": 3,
   "metadata": {},
   "outputs": [
    {
     "data": {
      "text/html": [
       "<div>\n",
       "<style scoped>\n",
       "    .dataframe tbody tr th:only-of-type {\n",
       "        vertical-align: middle;\n",
       "    }\n",
       "\n",
       "    .dataframe tbody tr th {\n",
       "        vertical-align: top;\n",
       "    }\n",
       "\n",
       "    .dataframe thead th {\n",
       "        text-align: right;\n",
       "    }\n",
       "</style>\n",
       "<table border=\"1\" class=\"dataframe\">\n",
       "  <thead>\n",
       "    <tr style=\"text-align: right;\">\n",
       "      <th></th>\n",
       "      <th>D</th>\n",
       "      <th>y</th>\n",
       "    </tr>\n",
       "  </thead>\n",
       "  <tbody>\n",
       "    <tr>\n",
       "      <th>0</th>\n",
       "      <td>5</td>\n",
       "      <td>2</td>\n",
       "    </tr>\n",
       "    <tr>\n",
       "      <th>1</th>\n",
       "      <td>3</td>\n",
       "      <td>5</td>\n",
       "    </tr>\n",
       "    <tr>\n",
       "      <th>2</th>\n",
       "      <td>1</td>\n",
       "      <td>3</td>\n",
       "    </tr>\n",
       "  </tbody>\n",
       "</table>\n",
       "</div>"
      ],
      "text/plain": [
       "   D  y\n",
       "0  5  2\n",
       "1  3  5\n",
       "2  1  3"
      ]
     },
     "execution_count": 3,
     "metadata": {},
     "output_type": "execute_result"
    }
   ],
   "source": [
    "D = np.array([5,3,1])\n",
    "y = np.array([2,5,3])\n",
    "pandas.DataFrame({\"D\":D,\"y\":y})"
   ]
  },
  {
   "cell_type": "markdown",
   "metadata": {},
   "source": [
    "We fit a polynomial of degree $k=3$. For polynomial regression functions $f:\\mathbb{R}\\rightarrow\\mathbb{R}$ we have\n",
    "$$f(x) = \\beta_0 +\\beta_1 x+ \\beta_2x^2 + \\beta_3x^3 = \\phi(x)^\\top\\beta,$$\n",
    "where \n",
    "$$\\phi(x)=\\begin{pmatrix}1\\\\ x\\\\ x^2\\\\ x^3\\end{pmatrix}.$$\n",
    "We implement $\\phi$ and create the design matrix. Note that the following definition of $\\phi$ for polynomials is only correct if the dimensionality of the feature space is equal to one, as it is in this example."
   ]
  },
  {
   "cell_type": "code",
   "execution_count": 4,
   "metadata": {},
   "outputs": [],
   "source": [
    "def ϕ(x):\n",
    "    return np.row_stack((np.ones(x.shape[0]),x, x**2, x**3))"
   ]
  },
  {
   "cell_type": "markdown",
   "metadata": {},
   "source": [
    "The design matrix gathers the transposed feature vectors of the data matrix:\n",
    "$$X = \\begin{pmatrix} \\phi^\\top(5)\\\\ \\phi^\\top(3)\\\\ \\phi^\\top(1)\\end{pmatrix}$$"
   ]
  },
  {
   "cell_type": "code",
   "execution_count": 5,
   "metadata": {},
   "outputs": [
    {
     "data": {
      "text/plain": [
       "array([[  1.,   5.,  25., 125.],\n",
       "       [  1.,   3.,   9.,  27.],\n",
       "       [  1.,   1.,   1.,   1.]])"
      ]
     },
     "execution_count": 5,
     "metadata": {},
     "output_type": "execute_result"
    }
   ],
   "source": [
    "X=ϕ(D).T\n",
    "X"
   ]
  },
  {
   "cell_type": "code",
   "execution_count": 6,
   "metadata": {},
   "outputs": [
    {
     "name": "stdout",
     "output_type": "stream",
     "text": [
      "(n,p)=(3,4)\n"
     ]
    }
   ],
   "source": [
    "n,p = X.shape\n",
    "print(\"(n,p)=({},{})\".format(n,p))"
   ]
  },
  {
   "cell_type": "markdown",
   "metadata": {},
   "source": [
    "We try to solve the system of linear equations which returns the global minimizers $\\beta$ of the regression objective\n",
    "$$\\{\\beta\\in\\mathbb{R}^p\\mid X^\\top X\\beta = X^\\top y\\}.$$"
   ]
  },
  {
   "cell_type": "code",
   "execution_count": 7,
   "metadata": {},
   "outputs": [
    {
     "name": "stderr",
     "output_type": "stream",
     "text": [
      "/usr/local/lib/python3.7/site-packages/ipykernel_launcher.py:1: LinAlgWarning: Ill-conditioned matrix (rcond=2.30128e-19): result may not be accurate.\n",
      "  \"\"\"Entry point for launching an IPython kernel.\n"
     ]
    },
    {
     "data": {
      "text/plain": [
       "array([ 1.82422,  0.89453,  0.39453, -0.11328])"
      ]
     },
     "execution_count": 7,
     "metadata": {},
     "output_type": "execute_result"
    }
   ],
   "source": [
    "β = linalg.solve(X.T@X,X.T@y)\n",
    "β"
   ]
  },
  {
   "cell_type": "markdown",
   "metadata": {},
   "source": [
    "This gives a warning because $X^\\top X$ is not invertible. So let's try to implement the formula for non-invertible $X^\\top X$ from the lecture. Therefore, we need the SVD of $X$."
   ]
  },
  {
   "cell_type": "code",
   "execution_count": 8,
   "metadata": {},
   "outputs": [
    {
     "name": "stdout",
     "output_type": "stream",
     "text": [
      "(3, 3) (3,) (4, 4)\n"
     ]
    }
   ],
   "source": [
    "U,σs,Vt = linalg.svd(X)\n",
    "print(U.shape, σs.shape, Vt.shape)"
   ]
  },
  {
   "cell_type": "code",
   "execution_count": 9,
   "metadata": {},
   "outputs": [],
   "source": [
    "V=Vt.T"
   ]
  },
  {
   "cell_type": "markdown",
   "metadata": {},
   "source": [
    "We calculate $r$, the number of nonzero singular values. If $r<p$, then the matrix $X^\\top X$ is not invertible."
   ]
  },
  {
   "cell_type": "code",
   "execution_count": 10,
   "metadata": {},
   "outputs": [
    {
     "data": {
      "text/plain": [
       "3"
      ]
     },
     "execution_count": 10,
     "metadata": {},
     "output_type": "execute_result"
    }
   ],
   "source": [
    "r=(σs>0).sum()\n",
    "r"
   ]
  },
  {
   "cell_type": "markdown",
   "metadata": {},
   "source": [
    "We construct the $n\\times p$ matrix $\\Sigma$ from the denoted $n<p$ singular values."
   ]
  },
  {
   "cell_type": "code",
   "execution_count": 11,
   "metadata": {},
   "outputs": [
    {
     "data": {
      "text/plain": [
       "array([[130.69682,   0.     ,   0.     ,   0.     ],\n",
       "       [  0.     ,   4.19889,   0.     ,   0.     ],\n",
       "       [  0.     ,   0.     ,   0.84299,   0.     ]])"
      ]
     },
     "execution_count": 11,
     "metadata": {},
     "output_type": "execute_result"
    }
   ],
   "source": [
    "Σ = np.column_stack((np.diag(σs),np.zeros(3)))\n",
    "Σ"
   ]
  },
  {
   "cell_type": "code",
   "execution_count": 12,
   "metadata": {},
   "outputs": [
    {
     "data": {
      "text/plain": [
       "array([[17081.65872,     0.     ,     0.     ,     0.     ],\n",
       "       [    0.     ,    17.63064,     0.     ,     0.     ],\n",
       "       [    0.     ,     0.     ,     0.71064,     0.     ],\n",
       "       [    0.     ,     0.     ,     0.     ,     0.     ]])"
      ]
     },
     "execution_count": 12,
     "metadata": {},
     "output_type": "execute_result"
    }
   ],
   "source": [
    "ΣtΣ = Σ.T@Σ\n",
    "ΣtΣ"
   ]
  },
  {
   "cell_type": "markdown",
   "metadata": {},
   "source": [
    "If we did everything right, then we should get $X=U\\Sigma V^\\top$."
   ]
  },
  {
   "cell_type": "code",
   "execution_count": 13,
   "metadata": {},
   "outputs": [
    {
     "data": {
      "text/plain": [
       "array([[  1.,   5.,  25., 125.],\n",
       "       [  1.,   3.,   9.,  27.],\n",
       "       [  1.,   1.,   1.,   1.]])"
      ]
     },
     "execution_count": 13,
     "metadata": {},
     "output_type": "execute_result"
    }
   ],
   "source": [
    "U@Σ@Vt"
   ]
  },
  {
   "cell_type": "code",
   "execution_count": 14,
   "metadata": {},
   "outputs": [
    {
     "data": {
      "text/plain": [
       "array([[  1.,   5.,  25., 125.],\n",
       "       [  1.,   3.,   9.,  27.],\n",
       "       [  1.,   1.,   1.,   1.]])"
      ]
     },
     "execution_count": 14,
     "metadata": {},
     "output_type": "execute_result"
    }
   ],
   "source": [
    "X"
   ]
  },
  {
   "cell_type": "markdown",
   "metadata": {},
   "source": [
    "We can now calculate a $\\beta$ in the set of global minimizers. If ```random=True``` then a random matrix replaces the zero rows in the pseudo inverse of $\\Sigma^\\top\\Sigma$."
   ]
  },
  {
   "cell_type": "code",
   "execution_count": 15,
   "metadata": {},
   "outputs": [],
   "source": [
    "def get_beta(random =True):\n",
    "    ΣtΣ_p = Σ.T@Σ\n",
    "    ΣtΣ_p[ΣtΣ_p>0] = 1/ΣtΣ_p[ΣtΣ_p>0]\n",
    "    A=ΣtΣ_p\n",
    "    if random:\n",
    "        A[r:p,:]=np.random.rand(p-r,p)\n",
    "    return V@A@Σ.T@U.T@y"
   ]
  },
  {
   "cell_type": "markdown",
   "metadata": {},
   "source": [
    "Plot it! The function resulting from setting ```random=False``` is the one in blue."
   ]
  },
  {
   "cell_type": "code",
   "execution_count": 23,
   "metadata": {},
   "outputs": [
    {
     "data": {
      "image/png": "[encoded data removed]",
      "text/plain": [
       "<Figure size 1008x360 with 1 Axes>"
      ]
     },
     "metadata": {
      "needs_background": "light"
     },
     "output_type": "display_data"
    }
   ],
   "source": [
    "plt.figure(figsize=(14, 5))\n",
    "x = np.linspace(0, 6, 100)\n",
    "β = get_beta(random = False)\n",
    "f_x = ϕ(x).T@β\n",
    "plt.plot(x, f_x, label=\"f_0\")\n",
    "for i in range(1,5):\n",
    "    β = get_beta()\n",
    "    f_x = ϕ(x).T@β\n",
    "    plt.plot(x, f_x, label=\"f_\"+str(i))\n",
    "plt.scatter(D, y, edgecolor='b', s=50)\n",
    "plt.xlabel(\"x\")\n",
    "plt.ylabel(\"y\")\n",
    "plt.ylim((-2, 10))\n",
    "plt.legend(loc=\"best\")\n",
    "plt.show()"
   ]
  },
  {
   "cell_type": "code",
   "execution_count": 17,
   "metadata": {},
   "outputs": [
    {
     "data": {
      "text/plain": [
       "array([ 1.63666,  1.18212,  0.282  , -0.10078])"
      ]
     },
     "execution_count": 17,
     "metadata": {},
     "output_type": "execute_result"
    }
   ],
   "source": [
    "get_beta(random = False)"
   ]
  },
  {
   "cell_type": "code",
   "execution_count": 19,
   "metadata": {},
   "outputs": [
    {
     "data": {
      "text/plain": [
       "array([-45.6257 ,  73.65107, -28.07542,   3.05005])"
      ]
     },
     "execution_count": 19,
     "metadata": {},
     "output_type": "execute_result"
    }
   ],
   "source": [
    "get_beta(random = True)"
   ]
  }
 ],
 "metadata": {
  "kernelspec": {
   "display_name": "Python 3",
   "language": "python",
   "name": "python3"
  },
  "language_info": {
   "codemirror_mode": {
    "name": "ipython",
    "version": 3
   },
   "file_extension": ".py",
   "mimetype": "text/x-python",
   "name": "python",
   "nbconvert_exporter": "python",
   "pygments_lexer": "ipython3",
   "version": "3.7.3"
  }
 },
 "nbformat": 4,
 "nbformat_minor": 2
}
