{
 "cells": [
  {
   "cell_type": "code",
   "execution_count": 1,
   "id": "216d9e83",
   "metadata": {},
   "outputs": [],
   "source": [
    "import numpy as np"
   ]
  },
  {
   "cell_type": "markdown",
   "id": "a7eadd07",
   "metadata": {},
   "source": [
    "If possible, update your sklearn version to 1.3.2 to reduce variance in the versions."
   ]
  },
  {
   "cell_type": "code",
   "execution_count": 2,
   "id": "7826208c",
   "metadata": {},
   "outputs": [
    {
     "name": "stdout",
     "output_type": "stream",
     "text": [
      "Collecting scikit-learn==1.3.2\n",
      "  Downloading scikit_learn-1.3.2-cp310-cp310-win_amd64.whl.metadata (11 kB)\n",
      "Requirement already satisfied: numpy<2.0,>=1.17.3 in c:\\users\\yu-hsuan lin\\appdata\\local\\programs\\python\\python310\\lib\\site-packages (from scikit-learn==1.3.2) (1.24.1)\n",
      "Collecting scipy>=1.5.0 (from scikit-learn==1.3.2)\n",
      "  Downloading scipy-1.11.4-cp310-cp310-win_amd64.whl.metadata (60 kB)\n",
      "     ---------------------------------------- 0.0/60.4 kB ? eta -:--:--\n",
      "     ---------------------------------------- 60.4/60.4 kB 1.6 MB/s eta 0:00:00\n",
      "Collecting joblib>=1.1.1 (from scikit-learn==1.3.2)\n",
      "  Downloading joblib-1.3.2-py3-none-any.whl.metadata (5.4 kB)\n",
      "Collecting threadpoolctl>=2.0.0 (from scikit-learn==1.3.2)\n",
      "  Downloading threadpoolctl-3.2.0-py3-none-any.whl.metadata (10.0 kB)\n",
      "Downloading scikit_learn-1.3.2-cp310-cp310-win_amd64.whl (9.3 MB)\n",
      "   ---------------------------------------- 0.0/9.3 MB ? eta -:--:--\n",
      "    --------------------------------------- 0.2/9.3 MB 3.5 MB/s eta 0:00:03\n",
      "   - -------------------------------------- 0.3/9.3 MB 3.8 MB/s eta 0:00:03\n",
      "   -- ------------------------------------- 0.5/9.3 MB 3.8 MB/s eta 0:00:03\n",
      "   -- ------------------------------------- 0.7/9.3 MB 3.9 MB/s eta 0:00:03\n",
      "   --- ------------------------------------ 0.8/9.3 MB 3.3 MB/s eta 0:00:03\n",
      "   ---- ----------------------------------- 1.0/9.3 MB 3.6 MB/s eta 0:00:03\n",
      "   ---- ----------------------------------- 1.1/9.3 MB 3.4 MB/s eta 0:00:03\n",
      "   ----- ---------------------------------- 1.3/9.3 MB 3.5 MB/s eta 0:00:03\n",
      "   ------ --------------------------------- 1.5/9.3 MB 3.8 MB/s eta 0:00:03\n",
      "   ------- -------------------------------- 1.7/9.3 MB 3.8 MB/s eta 0:00:03\n",
      "   -------- ------------------------------- 1.9/9.3 MB 3.8 MB/s eta 0:00:02\n",
      "   -------- ------------------------------- 2.1/9.3 MB 3.8 MB/s eta 0:00:02\n",
      "   --------- ------------------------------ 2.3/9.3 MB 3.8 MB/s eta 0:00:02\n",
      "   ---------- ----------------------------- 2.4/9.3 MB 3.7 MB/s eta 0:00:02\n",
      "   ----------- ---------------------------- 2.6/9.3 MB 3.8 MB/s eta 0:00:02\n",
      "   ----------- ---------------------------- 2.7/9.3 MB 3.7 MB/s eta 0:00:02\n",
      "   ------------ --------------------------- 2.9/9.3 MB 3.7 MB/s eta 0:00:02\n",
      "   ------------- -------------------------- 3.2/9.3 MB 3.8 MB/s eta 0:00:02\n",
      "   -------------- ------------------------- 3.3/9.3 MB 3.8 MB/s eta 0:00:02\n",
      "   -------------- ------------------------- 3.5/9.3 MB 3.7 MB/s eta 0:00:02\n",
      "   --------------- ------------------------ 3.6/9.3 MB 3.8 MB/s eta 0:00:02\n",
      "   --------------- ------------------------ 3.7/9.3 MB 3.7 MB/s eta 0:00:02\n",
      "   ----------------- ---------------------- 4.0/9.3 MB 3.7 MB/s eta 0:00:02\n",
      "   ------------------ --------------------- 4.2/9.3 MB 3.8 MB/s eta 0:00:02\n",
      "   ------------------ --------------------- 4.4/9.3 MB 3.8 MB/s eta 0:00:02\n",
      "   ------------------- -------------------- 4.5/9.3 MB 3.7 MB/s eta 0:00:02\n",
      "   -------------------- ------------------- 4.7/9.3 MB 3.7 MB/s eta 0:00:02\n",
      "   --------------------- ------------------ 4.9/9.3 MB 3.8 MB/s eta 0:00:02\n",
      "   ---------------------- ----------------- 5.1/9.3 MB 3.8 MB/s eta 0:00:02\n",
      "   ---------------------- ----------------- 5.3/9.3 MB 3.8 MB/s eta 0:00:02\n",
      "   ----------------------- ---------------- 5.5/9.3 MB 3.8 MB/s eta 0:00:01\n",
      "   ------------------------ --------------- 5.7/9.3 MB 3.8 MB/s eta 0:00:01\n",
      "   ------------------------- -------------- 5.8/9.3 MB 3.8 MB/s eta 0:00:01\n",
      "   -------------------------- ------------- 6.1/9.3 MB 3.8 MB/s eta 0:00:01\n",
      "   -------------------------- ------------- 6.2/9.3 MB 3.9 MB/s eta 0:00:01\n",
      "   --------------------------- ------------ 6.4/9.3 MB 3.8 MB/s eta 0:00:01\n",
      "   ---------------------------- ----------- 6.6/9.3 MB 3.8 MB/s eta 0:00:01\n",
      "   ----------------------------- ---------- 6.8/9.3 MB 3.8 MB/s eta 0:00:01\n",
      "   ------------------------------ --------- 7.0/9.3 MB 3.9 MB/s eta 0:00:01\n",
      "   ------------------------------ --------- 7.1/9.3 MB 3.8 MB/s eta 0:00:01\n",
      "   ------------------------------- -------- 7.4/9.3 MB 3.9 MB/s eta 0:00:01\n",
      "   -------------------------------- ------- 7.6/9.3 MB 3.9 MB/s eta 0:00:01\n",
      "   --------------------------------- ------ 7.8/9.3 MB 3.9 MB/s eta 0:00:01\n",
      "   ---------------------------------- ----- 8.0/9.3 MB 3.9 MB/s eta 0:00:01\n",
      "   ----------------------------------- ---- 8.2/9.3 MB 3.9 MB/s eta 0:00:01\n",
      "   ----------------------------------- ---- 8.3/9.3 MB 3.9 MB/s eta 0:00:01\n",
      "   ------------------------------------ --- 8.5/9.3 MB 3.9 MB/s eta 0:00:01\n",
      "   ------------------------------------- -- 8.7/9.3 MB 3.9 MB/s eta 0:00:01\n",
      "   -------------------------------------- - 8.9/9.3 MB 3.9 MB/s eta 0:00:01\n",
      "   ---------------------------------------  9.1/9.3 MB 3.9 MB/s eta 0:00:01\n",
      "   ---------------------------------------  9.2/9.3 MB 3.9 MB/s eta 0:00:01\n",
      "   ---------------------------------------- 9.3/9.3 MB 3.8 MB/s eta 0:00:00\n",
      "Downloading joblib-1.3.2-py3-none-any.whl (302 kB)\n",
      "   ---------------------------------------- 0.0/302.2 kB ? eta -:--:--\n",
      "   ------------ --------------------------- 92.2/302.2 kB 5.5 MB/s eta 0:00:01\n",
      "   ---------------------------------------  297.0/302.2 kB 4.6 MB/s eta 0:00:01\n",
      "   ---------------------------------------- 302.2/302.2 kB 3.7 MB/s eta 0:00:00\n",
      "Downloading scipy-1.11.4-cp310-cp310-win_amd64.whl (44.1 MB)\n",
      "   ---------------------------------------- 0.0/44.1 MB ? eta -:--:--\n",
      "   ---------------------------------------- 0.1/44.1 MB 3.5 MB/s eta 0:00:13\n",
      "   ---------------------------------------- 0.3/44.1 MB 3.4 MB/s eta 0:00:14\n",
      "   ---------------------------------------- 0.4/44.1 MB 3.8 MB/s eta 0:00:12\n",
      "    --------------------------------------- 0.7/44.1 MB 4.0 MB/s eta 0:00:11\n",
      "    --------------------------------------- 0.9/44.1 MB 4.0 MB/s eta 0:00:11\n",
      "   - -------------------------------------- 1.1/44.1 MB 4.0 MB/s eta 0:00:11\n",
      "   - -------------------------------------- 1.4/44.1 MB 4.3 MB/s eta 0:00:10\n",
      "   - -------------------------------------- 1.5/44.1 MB 4.1 MB/s eta 0:00:11\n",
      "   - -------------------------------------- 1.7/44.1 MB 4.1 MB/s eta 0:00:11\n",
      "   - -------------------------------------- 1.9/44.1 MB 4.2 MB/s eta 0:00:11\n",
      "   - -------------------------------------- 2.0/44.1 MB 4.1 MB/s eta 0:00:11\n",
      "   -- ------------------------------------- 2.2/44.1 MB 4.1 MB/s eta 0:00:11\n",
      "   -- ------------------------------------- 2.4/44.1 MB 4.1 MB/s eta 0:00:11\n",
      "   -- ------------------------------------- 2.7/44.1 MB 4.1 MB/s eta 0:00:11\n",
      "   -- ------------------------------------- 2.8/44.1 MB 4.1 MB/s eta 0:00:11\n",
      "   -- ------------------------------------- 3.0/44.1 MB 4.1 MB/s eta 0:00:11\n",
      "   -- ------------------------------------- 3.2/44.1 MB 4.1 MB/s eta 0:00:11\n",
      "   --- ------------------------------------ 3.3/44.1 MB 4.0 MB/s eta 0:00:11\n",
      "   --- ------------------------------------ 3.5/44.1 MB 4.0 MB/s eta 0:00:11\n",
      "   --- ------------------------------------ 3.7/44.1 MB 4.0 MB/s eta 0:00:11\n",
      "   --- ------------------------------------ 3.9/44.1 MB 4.1 MB/s eta 0:00:10\n",
      "   --- ------------------------------------ 4.2/44.1 MB 4.1 MB/s eta 0:00:10\n",
      "   --- ------------------------------------ 4.3/44.1 MB 4.1 MB/s eta 0:00:10\n",
      "   ---- ----------------------------------- 4.6/44.1 MB 4.1 MB/s eta 0:00:10\n",
      "   ---- ----------------------------------- 4.8/44.1 MB 4.1 MB/s eta 0:00:10\n",
      "   ---- ----------------------------------- 4.9/44.1 MB 4.1 MB/s eta 0:00:10\n",
      "   ---- ----------------------------------- 5.1/44.1 MB 4.1 MB/s eta 0:00:10\n",
      "   ---- ----------------------------------- 5.3/44.1 MB 4.1 MB/s eta 0:00:10\n",
      "   ----- ---------------------------------- 5.5/44.1 MB 4.1 MB/s eta 0:00:10\n",
      "   ----- ---------------------------------- 5.7/44.1 MB 4.1 MB/s eta 0:00:10\n",
      "   ----- ---------------------------------- 5.9/44.1 MB 4.1 MB/s eta 0:00:10\n",
      "   ----- ---------------------------------- 6.0/44.1 MB 4.1 MB/s eta 0:00:10\n",
      "   ----- ---------------------------------- 6.2/44.1 MB 4.1 MB/s eta 0:00:10\n",
      "   ----- ---------------------------------- 6.5/44.1 MB 4.1 MB/s eta 0:00:10\n",
      "   ------ --------------------------------- 6.7/44.1 MB 4.1 MB/s eta 0:00:10\n",
      "   ------ --------------------------------- 6.9/44.1 MB 4.1 MB/s eta 0:00:10\n",
      "   ------ --------------------------------- 7.0/44.1 MB 4.1 MB/s eta 0:00:10\n",
      "   ------ --------------------------------- 7.2/44.1 MB 4.1 MB/s eta 0:00:10\n",
      "   ------ --------------------------------- 7.4/44.1 MB 4.1 MB/s eta 0:00:09\n",
      "   ------ --------------------------------- 7.6/44.1 MB 4.1 MB/s eta 0:00:09\n",
      "   ------- -------------------------------- 7.8/44.1 MB 4.1 MB/s eta 0:00:09\n",
      "   ------- -------------------------------- 8.0/44.1 MB 4.1 MB/s eta 0:00:09\n",
      "   ------- -------------------------------- 8.2/44.1 MB 4.1 MB/s eta 0:00:09\n",
      "   ------- -------------------------------- 8.4/44.1 MB 4.1 MB/s eta 0:00:09\n",
      "   ------- -------------------------------- 8.5/44.1 MB 4.1 MB/s eta 0:00:09\n",
      "   ------- -------------------------------- 8.8/44.1 MB 4.1 MB/s eta 0:00:09\n",
      "   -------- ------------------------------- 9.0/44.1 MB 4.1 MB/s eta 0:00:09\n",
      "   -------- ------------------------------- 9.1/44.1 MB 4.1 MB/s eta 0:00:09\n",
      "   -------- ------------------------------- 9.3/44.1 MB 4.1 MB/s eta 0:00:09\n",
      "   -------- ------------------------------- 9.5/44.1 MB 4.1 MB/s eta 0:00:09\n",
      "   -------- ------------------------------- 9.7/44.1 MB 4.1 MB/s eta 0:00:09\n",
      "   -------- ------------------------------- 9.9/44.1 MB 4.1 MB/s eta 0:00:09\n",
      "   --------- ------------------------------ 10.1/44.1 MB 4.1 MB/s eta 0:00:09\n",
      "   --------- ------------------------------ 10.3/44.1 MB 4.1 MB/s eta 0:00:09\n",
      "   --------- ------------------------------ 10.5/44.1 MB 4.1 MB/s eta 0:00:09\n",
      "   --------- ------------------------------ 10.6/44.1 MB 4.1 MB/s eta 0:00:09\n",
      "   --------- ------------------------------ 10.8/44.1 MB 4.1 MB/s eta 0:00:09\n",
      "   ---------- ----------------------------- 11.0/44.1 MB 4.1 MB/s eta 0:00:09\n",
      "   ---------- ----------------------------- 11.2/44.1 MB 4.1 MB/s eta 0:00:09\n",
      "   ---------- ----------------------------- 11.4/44.1 MB 4.1 MB/s eta 0:00:08\n",
      "   ---------- ----------------------------- 11.6/44.1 MB 4.1 MB/s eta 0:00:08\n",
      "   ---------- ----------------------------- 11.8/44.1 MB 4.1 MB/s eta 0:00:08\n",
      "   ---------- ----------------------------- 12.0/44.1 MB 4.1 MB/s eta 0:00:08\n",
      "   ----------- ---------------------------- 12.2/44.1 MB 4.1 MB/s eta 0:00:08\n",
      "   ----------- ---------------------------- 12.4/44.1 MB 4.1 MB/s eta 0:00:08\n",
      "   ----------- ---------------------------- 12.5/44.1 MB 4.1 MB/s eta 0:00:08\n",
      "   ----------- ---------------------------- 12.8/44.1 MB 4.1 MB/s eta 0:00:08\n",
      "   ----------- ---------------------------- 12.9/44.1 MB 4.1 MB/s eta 0:00:08\n",
      "   ----------- ---------------------------- 13.1/44.1 MB 4.1 MB/s eta 0:00:08\n",
      "   ------------ --------------------------- 13.3/44.1 MB 4.1 MB/s eta 0:00:08\n",
      "   ------------ --------------------------- 13.5/44.1 MB 4.1 MB/s eta 0:00:08\n",
      "   ------------ --------------------------- 13.7/44.1 MB 4.1 MB/s eta 0:00:08\n",
      "   ------------ --------------------------- 13.9/44.1 MB 4.1 MB/s eta 0:00:08\n",
      "   ------------ --------------------------- 14.1/44.1 MB 4.1 MB/s eta 0:00:08\n",
      "   ------------ --------------------------- 14.3/44.1 MB 4.1 MB/s eta 0:00:08\n",
      "   ------------- -------------------------- 14.5/44.1 MB 4.1 MB/s eta 0:00:08\n",
      "   ------------- -------------------------- 14.7/44.1 MB 4.1 MB/s eta 0:00:08\n",
      "   ------------- -------------------------- 14.9/44.1 MB 4.1 MB/s eta 0:00:08\n",
      "   ------------- -------------------------- 15.0/44.1 MB 4.1 MB/s eta 0:00:08\n",
      "   ------------- -------------------------- 15.2/44.1 MB 4.1 MB/s eta 0:00:08\n",
      "   ------------- -------------------------- 15.4/44.1 MB 4.1 MB/s eta 0:00:08\n",
      "   -------------- ------------------------- 15.6/44.1 MB 4.1 MB/s eta 0:00:07\n",
      "   -------------- ------------------------- 15.8/44.1 MB 4.1 MB/s eta 0:00:07\n",
      "   -------------- ------------------------- 16.0/44.1 MB 4.1 MB/s eta 0:00:07\n",
      "   -------------- ------------------------- 16.2/44.1 MB 4.1 MB/s eta 0:00:07\n",
      "   -------------- ------------------------- 16.4/44.1 MB 4.1 MB/s eta 0:00:07\n",
      "   -------------- ------------------------- 16.5/44.1 MB 4.1 MB/s eta 0:00:07\n",
      "   --------------- ------------------------ 16.7/44.1 MB 4.1 MB/s eta 0:00:07\n",
      "   --------------- ------------------------ 16.9/44.1 MB 4.1 MB/s eta 0:00:07\n",
      "   --------------- ------------------------ 17.1/44.1 MB 4.1 MB/s eta 0:00:07\n",
      "   --------------- ------------------------ 17.2/44.1 MB 4.1 MB/s eta 0:00:07\n",
      "   --------------- ------------------------ 17.5/44.1 MB 4.1 MB/s eta 0:00:07\n",
      "   --------------- ------------------------ 17.6/44.1 MB 4.0 MB/s eta 0:00:07\n",
      "   ---------------- ----------------------- 17.8/44.1 MB 4.1 MB/s eta 0:00:07\n",
      "   ---------------- ----------------------- 18.1/44.1 MB 4.1 MB/s eta 0:00:07\n",
      "   ---------------- ----------------------- 18.2/44.1 MB 4.1 MB/s eta 0:00:07\n",
      "   ---------------- ----------------------- 18.4/44.1 MB 4.1 MB/s eta 0:00:07\n",
      "   ---------------- ----------------------- 18.6/44.1 MB 4.1 MB/s eta 0:00:07\n",
      "   ----------------- ---------------------- 18.8/44.1 MB 4.1 MB/s eta 0:00:07\n",
      "   ----------------- ---------------------- 19.0/44.1 MB 4.1 MB/s eta 0:00:07\n",
      "   ----------------- ---------------------- 19.2/44.1 MB 4.1 MB/s eta 0:00:07\n",
      "   ----------------- ---------------------- 19.4/44.1 MB 4.1 MB/s eta 0:00:07\n",
      "   ----------------- ---------------------- 19.6/44.1 MB 4.1 MB/s eta 0:00:07\n",
      "   ----------------- ---------------------- 19.8/44.1 MB 4.1 MB/s eta 0:00:06\n",
      "   ------------------ --------------------- 20.0/44.1 MB 4.1 MB/s eta 0:00:06\n",
      "   ------------------ --------------------- 20.2/44.1 MB 4.1 MB/s eta 0:00:06\n",
      "   ------------------ --------------------- 20.4/44.1 MB 4.1 MB/s eta 0:00:06\n",
      "   ------------------ --------------------- 20.5/44.1 MB 4.1 MB/s eta 0:00:06\n",
      "   ------------------ --------------------- 20.7/44.1 MB 4.1 MB/s eta 0:00:06\n",
      "   ------------------- -------------------- 21.0/44.1 MB 4.1 MB/s eta 0:00:06\n",
      "   ------------------- -------------------- 21.2/44.1 MB 4.1 MB/s eta 0:00:06\n",
      "   ------------------- -------------------- 21.4/44.1 MB 4.1 MB/s eta 0:00:06\n",
      "   ------------------- -------------------- 21.5/44.1 MB 4.1 MB/s eta 0:00:06\n",
      "   ------------------- -------------------- 21.8/44.1 MB 4.1 MB/s eta 0:00:06\n",
      "   ------------------- -------------------- 21.9/44.1 MB 4.1 MB/s eta 0:00:06\n",
      "   -------------------- ------------------- 22.1/44.1 MB 4.1 MB/s eta 0:00:06\n",
      "   -------------------- ------------------- 22.3/44.1 MB 4.1 MB/s eta 0:00:06\n",
      "   -------------------- ------------------- 22.6/44.1 MB 4.1 MB/s eta 0:00:06\n",
      "   -------------------- ------------------- 22.8/44.1 MB 4.2 MB/s eta 0:00:06\n",
      "   -------------------- ------------------- 22.9/44.1 MB 4.1 MB/s eta 0:00:06\n",
      "   -------------------- ------------------- 23.1/44.1 MB 4.1 MB/s eta 0:00:06\n",
      "   --------------------- ------------------ 23.3/44.1 MB 4.2 MB/s eta 0:00:05\n",
      "   --------------------- ------------------ 23.6/44.1 MB 4.2 MB/s eta 0:00:05\n",
      "   --------------------- ------------------ 23.7/44.1 MB 4.1 MB/s eta 0:00:05\n",
      "   --------------------- ------------------ 23.9/44.1 MB 4.1 MB/s eta 0:00:05\n",
      "   --------------------- ------------------ 24.1/44.1 MB 4.1 MB/s eta 0:00:05\n",
      "   --------------------- ------------------ 24.3/44.1 MB 4.1 MB/s eta 0:00:05\n",
      "   ---------------------- ----------------- 24.5/44.1 MB 4.1 MB/s eta 0:00:05\n",
      "   ---------------------- ----------------- 24.7/44.1 MB 4.1 MB/s eta 0:00:05\n",
      "   ---------------------- ----------------- 24.9/44.1 MB 4.1 MB/s eta 0:00:05\n",
      "   ---------------------- ----------------- 25.1/44.1 MB 4.1 MB/s eta 0:00:05\n",
      "   ---------------------- ----------------- 25.2/44.1 MB 4.1 MB/s eta 0:00:05\n",
      "   ----------------------- ---------------- 25.5/44.1 MB 4.1 MB/s eta 0:00:05\n",
      "   ----------------------- ---------------- 25.7/44.1 MB 4.2 MB/s eta 0:00:05\n",
      "   ----------------------- ---------------- 25.9/44.1 MB 4.2 MB/s eta 0:00:05\n",
      "   ----------------------- ---------------- 26.1/44.1 MB 4.2 MB/s eta 0:00:05\n",
      "   ----------------------- ---------------- 26.3/44.1 MB 4.2 MB/s eta 0:00:05\n",
      "   ----------------------- ---------------- 26.4/44.1 MB 4.2 MB/s eta 0:00:05\n",
      "   ------------------------ --------------- 26.7/44.1 MB 4.2 MB/s eta 0:00:05\n",
      "   ------------------------ --------------- 26.9/44.1 MB 4.2 MB/s eta 0:00:05\n",
      "   ------------------------ --------------- 27.0/44.1 MB 4.2 MB/s eta 0:00:05\n",
      "   ------------------------ --------------- 27.2/44.1 MB 4.2 MB/s eta 0:00:05\n",
      "   ------------------------ --------------- 27.4/44.1 MB 4.2 MB/s eta 0:00:04\n",
      "   ------------------------- -------------- 27.7/44.1 MB 4.2 MB/s eta 0:00:04\n",
      "   ------------------------- -------------- 27.8/44.1 MB 4.2 MB/s eta 0:00:04\n",
      "   ------------------------- -------------- 27.9/44.1 MB 4.2 MB/s eta 0:00:04\n",
      "   ------------------------- -------------- 28.2/44.1 MB 4.2 MB/s eta 0:00:04\n",
      "   ------------------------- -------------- 28.4/44.1 MB 4.2 MB/s eta 0:00:04\n",
      "   ------------------------- -------------- 28.6/44.1 MB 4.2 MB/s eta 0:00:04\n",
      "   -------------------------- ------------- 28.7/44.1 MB 4.2 MB/s eta 0:00:04\n",
      "   -------------------------- ------------- 29.0/44.1 MB 4.2 MB/s eta 0:00:04\n",
      "   -------------------------- ------------- 29.2/44.1 MB 4.2 MB/s eta 0:00:04\n",
      "   -------------------------- ------------- 29.4/44.1 MB 4.2 MB/s eta 0:00:04\n",
      "   -------------------------- ------------- 29.6/44.1 MB 4.2 MB/s eta 0:00:04\n",
      "   -------------------------- ------------- 29.8/44.1 MB 4.2 MB/s eta 0:00:04\n",
      "   --------------------------- ------------ 30.0/44.1 MB 4.2 MB/s eta 0:00:04\n",
      "   --------------------------- ------------ 30.1/44.1 MB 4.2 MB/s eta 0:00:04\n",
      "   --------------------------- ------------ 30.4/44.1 MB 4.2 MB/s eta 0:00:04\n",
      "   --------------------------- ------------ 30.5/44.1 MB 4.2 MB/s eta 0:00:04\n",
      "   --------------------------- ------------ 30.7/44.1 MB 4.2 MB/s eta 0:00:04\n",
      "   ---------------------------- ----------- 31.0/44.1 MB 4.2 MB/s eta 0:00:04\n",
      "   ---------------------------- ----------- 31.1/44.1 MB 4.2 MB/s eta 0:00:04\n",
      "   ---------------------------- ----------- 31.3/44.1 MB 4.2 MB/s eta 0:00:04\n",
      "   ---------------------------- ----------- 31.5/44.1 MB 4.2 MB/s eta 0:00:03\n",
      "   ---------------------------- ----------- 31.7/44.1 MB 4.2 MB/s eta 0:00:03\n",
      "   ---------------------------- ----------- 31.9/44.1 MB 4.2 MB/s eta 0:00:03\n",
      "   ----------------------------- ---------- 32.1/44.1 MB 4.2 MB/s eta 0:00:03\n",
      "   ----------------------------- ---------- 32.3/44.1 MB 4.2 MB/s eta 0:00:03\n",
      "   ----------------------------- ---------- 32.4/44.1 MB 4.2 MB/s eta 0:00:03\n",
      "   ----------------------------- ---------- 32.6/44.1 MB 4.2 MB/s eta 0:00:03\n",
      "   ----------------------------- ---------- 32.8/44.1 MB 4.2 MB/s eta 0:00:03\n",
      "   ----------------------------- ---------- 33.0/44.1 MB 4.1 MB/s eta 0:00:03\n",
      "   ------------------------------ --------- 33.2/44.1 MB 4.2 MB/s eta 0:00:03\n",
      "   ------------------------------ --------- 33.4/44.1 MB 4.2 MB/s eta 0:00:03\n",
      "   ------------------------------ --------- 33.6/44.1 MB 4.1 MB/s eta 0:00:03\n",
      "   ------------------------------ --------- 33.8/44.1 MB 4.1 MB/s eta 0:00:03\n",
      "   ------------------------------ --------- 33.9/44.1 MB 4.1 MB/s eta 0:00:03\n",
      "   ------------------------------ --------- 34.2/44.1 MB 4.2 MB/s eta 0:00:03\n",
      "   ------------------------------- -------- 34.4/44.1 MB 4.2 MB/s eta 0:00:03\n",
      "   ------------------------------- -------- 34.5/44.1 MB 4.2 MB/s eta 0:00:03\n",
      "   ------------------------------- -------- 34.7/44.1 MB 4.2 MB/s eta 0:00:03\n",
      "   ------------------------------- -------- 34.9/44.1 MB 4.2 MB/s eta 0:00:03\n",
      "   ------------------------------- -------- 35.1/44.1 MB 4.2 MB/s eta 0:00:03\n",
      "   ------------------------------- -------- 35.3/44.1 MB 4.1 MB/s eta 0:00:03\n",
      "   -------------------------------- ------- 35.5/44.1 MB 4.2 MB/s eta 0:00:03\n",
      "   -------------------------------- ------- 35.7/44.1 MB 4.1 MB/s eta 0:00:03\n",
      "   -------------------------------- ------- 35.9/44.1 MB 4.1 MB/s eta 0:00:02\n",
      "   -------------------------------- ------- 36.1/44.1 MB 4.1 MB/s eta 0:00:02\n",
      "   -------------------------------- ------- 36.2/44.1 MB 4.2 MB/s eta 0:00:02\n",
      "   -------------------------------- ------- 36.3/44.1 MB 4.1 MB/s eta 0:00:02\n",
      "   --------------------------------- ------ 36.6/44.1 MB 4.1 MB/s eta 0:00:02\n",
      "   --------------------------------- ------ 36.7/44.1 MB 4.1 MB/s eta 0:00:02\n",
      "   --------------------------------- ------ 36.9/44.1 MB 4.1 MB/s eta 0:00:02\n",
      "   --------------------------------- ------ 37.1/44.1 MB 4.1 MB/s eta 0:00:02\n",
      "   --------------------------------- ------ 37.3/44.1 MB 4.1 MB/s eta 0:00:02\n",
      "   --------------------------------- ------ 37.4/44.1 MB 4.1 MB/s eta 0:00:02\n",
      "   ---------------------------------- ----- 37.6/44.1 MB 4.0 MB/s eta 0:00:02\n",
      "   ---------------------------------- ----- 37.8/44.1 MB 4.0 MB/s eta 0:00:02\n",
      "   ---------------------------------- ----- 38.0/44.1 MB 4.1 MB/s eta 0:00:02\n",
      "   ---------------------------------- ----- 38.2/44.1 MB 4.1 MB/s eta 0:00:02\n",
      "   ---------------------------------- ----- 38.4/44.1 MB 4.1 MB/s eta 0:00:02\n",
      "   ---------------------------------- ----- 38.6/44.1 MB 4.1 MB/s eta 0:00:02\n",
      "   ----------------------------------- ---- 38.8/44.1 MB 4.0 MB/s eta 0:00:02\n",
      "   ----------------------------------- ---- 39.0/44.1 MB 4.1 MB/s eta 0:00:02\n",
      "   ----------------------------------- ---- 39.2/44.1 MB 4.1 MB/s eta 0:00:02\n",
      "   ----------------------------------- ---- 39.3/44.1 MB 4.1 MB/s eta 0:00:02\n",
      "   ----------------------------------- ---- 39.6/44.1 MB 4.0 MB/s eta 0:00:02\n",
      "   ----------------------------------- ---- 39.7/44.1 MB 4.0 MB/s eta 0:00:02\n",
      "   ------------------------------------ --- 39.9/44.1 MB 4.0 MB/s eta 0:00:02\n",
      "   ------------------------------------ --- 40.1/44.1 MB 4.0 MB/s eta 0:00:02\n",
      "   ------------------------------------ --- 40.3/44.1 MB 4.0 MB/s eta 0:00:01\n",
      "   ------------------------------------ --- 40.4/44.1 MB 4.0 MB/s eta 0:00:01\n",
      "   ------------------------------------ --- 40.7/44.1 MB 4.0 MB/s eta 0:00:01\n",
      "   ------------------------------------- -- 40.9/44.1 MB 4.0 MB/s eta 0:00:01\n",
      "   ------------------------------------- -- 41.0/44.1 MB 4.0 MB/s eta 0:00:01\n",
      "   ------------------------------------- -- 41.3/44.1 MB 4.1 MB/s eta 0:00:01\n",
      "   ------------------------------------- -- 41.5/44.1 MB 4.0 MB/s eta 0:00:01\n",
      "   ------------------------------------- -- 41.7/44.1 MB 4.0 MB/s eta 0:00:01\n",
      "   ------------------------------------- -- 41.8/44.1 MB 4.0 MB/s eta 0:00:01\n",
      "   -------------------------------------- - 42.0/44.1 MB 4.0 MB/s eta 0:00:01\n",
      "   -------------------------------------- - 42.2/44.1 MB 4.0 MB/s eta 0:00:01\n",
      "   -------------------------------------- - 42.4/44.1 MB 4.0 MB/s eta 0:00:01\n",
      "   -------------------------------------- - 42.6/44.1 MB 4.0 MB/s eta 0:00:01\n",
      "   -------------------------------------- - 42.8/44.1 MB 4.0 MB/s eta 0:00:01\n",
      "   -------------------------------------- - 43.0/44.1 MB 4.1 MB/s eta 0:00:01\n",
      "   ---------------------------------------  43.2/44.1 MB 4.0 MB/s eta 0:00:01\n",
      "   ---------------------------------------  43.3/44.1 MB 4.0 MB/s eta 0:00:01\n",
      "   ---------------------------------------  43.5/44.1 MB 4.0 MB/s eta 0:00:01\n",
      "   ---------------------------------------  43.7/44.1 MB 4.0 MB/s eta 0:00:01\n",
      "   ---------------------------------------  43.9/44.1 MB 4.0 MB/s eta 0:00:01\n",
      "   ---------------------------------------  44.0/44.1 MB 4.0 MB/s eta 0:00:01\n",
      "   ---------------------------------------  44.1/44.1 MB 4.0 MB/s eta 0:00:01\n",
      "   ---------------------------------------- 44.1/44.1 MB 3.9 MB/s eta 0:00:00\n",
      "Downloading threadpoolctl-3.2.0-py3-none-any.whl (15 kB)\n",
      "Installing collected packages: threadpoolctl, scipy, joblib, scikit-learn\n",
      "Successfully installed joblib-1.3.2 scikit-learn-1.3.2 scipy-1.11.4 threadpoolctl-3.2.0\n"
     ]
    }
   ],
   "source": [
    "!pip3 install scikit-learn==1.3.2"
   ]
  },
  {
   "cell_type": "code",
   "execution_count": 3,
   "id": "dd0a3fe3",
   "metadata": {},
   "outputs": [
    {
     "name": "stdout",
     "output_type": "stream",
     "text": [
      "The scikit-learn version is 1.3.2.\n"
     ]
    }
   ],
   "source": [
    "import sklearn\n",
    "print('The scikit-learn version is {}.'.format(sklearn.__version__))"
   ]
  },
  {
   "cell_type": "markdown",
   "id": "64c1c5d2",
   "metadata": {},
   "source": [
    "## Regression - Polynomial features"
   ]
  },
  {
   "cell_type": "code",
   "execution_count": 4,
   "id": "3df6fc3b",
   "metadata": {},
   "outputs": [
    {
     "name": "stdout",
     "output_type": "stream",
     "text": [
      ".. _california_housing_dataset:\n",
      "\n",
      "California Housing dataset\n",
      "--------------------------\n",
      "\n",
      "**Data Set Characteristics:**\n",
      "\n",
      "    :Number of Instances: 20640\n",
      "\n",
      "    :Number of Attributes: 8 numeric, predictive attributes and the target\n",
      "\n",
      "    :Attribute Information:\n",
      "        - MedInc        median income in block group\n",
      "        - HouseAge      median house age in block group\n",
      "        - AveRooms      average number of rooms per household\n",
      "        - AveBedrms     average number of bedrooms per household\n",
      "        - Population    block group population\n",
      "        - AveOccup      average number of household members\n",
      "        - Latitude      block group latitude\n",
      "        - Longitude     block group longitude\n",
      "\n",
      "    :Missing Attribute Values: None\n",
      "\n",
      "This dataset was obtained from the StatLib repository.\n",
      "https://www.dcc.fc.up.pt/~ltorgo/Regression/cal_housing.html\n",
      "\n",
      "The target variable is the median house value for California districts,\n",
      "expressed in hundreds of thousands of dollars ($100,000).\n",
      "\n",
      "This dataset was derived from the 1990 U.S. census, using one row per census\n",
      "block group. A block group is the smallest geographical unit for which the U.S.\n",
      "Census Bureau publishes sample data (a block group typically has a population\n",
      "of 600 to 3,000 people).\n",
      "\n",
      "A household is a group of people residing within a home. Since the average\n",
      "number of rooms and bedrooms in this dataset are provided per household, these\n",
      "columns may take surprisingly large values for block groups with few households\n",
      "and many empty houses, such as vacation resorts.\n",
      "\n",
      "It can be downloaded/loaded using the\n",
      ":func:`sklearn.datasets.fetch_california_housing` function.\n",
      "\n",
      ".. topic:: References\n",
      "\n",
      "    - Pace, R. Kelley and Ronald Barry, Sparse Spatial Autoregressions,\n",
      "      Statistics and Probability Letters, 33 (1997) 291-297\n",
      "\n"
     ]
    }
   ],
   "source": [
    "from sklearn.datasets import fetch_california_housing\n",
    "california = fetch_california_housing()\n",
    "print(california.DESCR)"
   ]
  },
  {
   "cell_type": "markdown",
   "id": "ba9fa714",
   "metadata": {},
   "source": [
    "Creating the data matrix"
   ]
  },
  {
   "cell_type": "code",
   "execution_count": 5,
   "id": "c46c883e",
   "metadata": {},
   "outputs": [
    {
     "name": "stdout",
     "output_type": "stream",
     "text": [
      "20640 8\n"
     ]
    }
   ],
   "source": [
    "D = california.data\n",
    "y = california.target\n",
    "n,d = D.shape\n",
    "print(n,d)"
   ]
  },
  {
   "cell_type": "markdown",
   "id": "02092543",
   "metadata": {},
   "source": [
    "Creating a design matrix with polynomial features"
   ]
  },
  {
   "cell_type": "code",
   "execution_count": 6,
   "id": "50b5fa71",
   "metadata": {},
   "outputs": [
    {
     "data": {
      "text/plain": [
       "array(['1', 'MedInc', 'HouseAge', 'AveRooms', 'AveBedrms', 'Population',\n",
       "       'AveOccup', 'Latitude', 'Longitude', 'MedInc^2', 'MedInc HouseAge',\n",
       "       'MedInc AveRooms', 'MedInc AveBedrms', 'MedInc Population',\n",
       "       'MedInc AveOccup', 'MedInc Latitude', 'MedInc Longitude',\n",
       "       'HouseAge^2', 'HouseAge AveRooms', 'HouseAge AveBedrms',\n",
       "       'HouseAge Population', 'HouseAge AveOccup', 'HouseAge Latitude',\n",
       "       'HouseAge Longitude', 'AveRooms^2', 'AveRooms AveBedrms',\n",
       "       'AveRooms Population', 'AveRooms AveOccup', 'AveRooms Latitude',\n",
       "       'AveRooms Longitude', 'AveBedrms^2', 'AveBedrms Population',\n",
       "       'AveBedrms AveOccup', 'AveBedrms Latitude', 'AveBedrms Longitude',\n",
       "       'Population^2', 'Population AveOccup', 'Population Latitude',\n",
       "       'Population Longitude', 'AveOccup^2', 'AveOccup Latitude',\n",
       "       'AveOccup Longitude', 'Latitude^2', 'Latitude Longitude',\n",
       "       'Longitude^2'], dtype=object)"
      ]
     },
     "execution_count": 6,
     "metadata": {},
     "output_type": "execute_result"
    }
   ],
   "source": [
    "from sklearn.preprocessing import PolynomialFeatures\n",
    "aff = PolynomialFeatures(2,include_bias=True)\n",
    "X = aff.fit_transform(D)\n",
    "aff.get_feature_names_out(california.feature_names)"
   ]
  },
  {
   "cell_type": "markdown",
   "id": "48e04e4b",
   "metadata": {},
   "source": [
    "## Naive Bayes\n",
    "From the 20Newsgroups dataset we fetch the documents belonging to three categories, which we use as classes."
   ]
  },
  {
   "cell_type": "code",
   "execution_count": 7,
   "id": "4e6475d9",
   "metadata": {},
   "outputs": [],
   "source": [
    "from sklearn.datasets import fetch_20newsgroups\n",
    "categories = ['alt.atheism', 'talk.politics.guns',\n",
    "              'sci.space']\n",
    "train = fetch_20newsgroups(subset='train', categories=categories)\n",
    "test = fetch_20newsgroups(subset='test', categories=categories)"
   ]
  },
  {
   "cell_type": "markdown",
   "id": "da785a92",
   "metadata": {},
   "source": [
    "For example, the first document in the training data is the following one:"
   ]
  },
  {
   "cell_type": "code",
   "execution_count": 9,
   "id": "a93d9448",
   "metadata": {},
   "outputs": [
    {
     "name": "stdout",
     "output_type": "stream",
     "text": [
      "From: fcrary@ucsu.Colorado.EDU (Frank Crary)\n",
      "Subject: Re: Riddle me this...\n",
      "Nntp-Posting-Host: ucsu.colorado.edu\n",
      "Organization: University of Colorado, Boulder\n",
      "Distribution: usa\n",
      "Lines: 16\n",
      "\n",
      "In article <1r1lp1INN752@mojo.eng.umd.edu> chuck@eng.umd.edu (Chuck Harris - WA3UQV) writes:\n",
      ">>If so, why was CS often employed against tunnels in Vietnam?\n",
      "\n",
      ">CS \"tear-gas\" was used in Vietnam because it makes you wretch so hard that\n",
      ">your stomach comes out thru your throat.  Well, not quite that bad, but\n",
      ">you can't really do much to defend yourself while you are blowing cookies.\n",
      "\n",
      "I think the is BZ gas, not CS or CN. BZ gas exposure results in projectile\n",
      "vomiting, loss of essentially all muscle control, inability to concentrate\n",
      "or think rationally and fatal reactions in a significant fraction of\n",
      "the population. For that reason its use is limited to military\n",
      "applications.\n",
      "\n",
      "                                                          Frank Crary\n",
      "                                                          CU Boulder\n",
      " \n",
      "\n"
     ]
    }
   ],
   "source": [
    "print(train.data[0])"
   ]
  },
  {
   "cell_type": "markdown",
   "id": "d1af6f97",
   "metadata": {},
   "source": [
    "The classes are indicated categorically with indices from zero to two by the target vector. The target names tell us which index belongs to which class."
   ]
  },
  {
   "cell_type": "code",
   "execution_count": 10,
   "id": "28ceeda7",
   "metadata": {},
   "outputs": [
    {
     "data": {
      "text/plain": [
       "array([2, 2, 1, ..., 1, 2, 2])"
      ]
     },
     "execution_count": 10,
     "metadata": {},
     "output_type": "execute_result"
    }
   ],
   "source": [
    "y_train = train.target\n",
    "y_train"
   ]
  },
  {
   "cell_type": "code",
   "execution_count": 11,
   "id": "6ad3956b",
   "metadata": {},
   "outputs": [
    {
     "data": {
      "text/plain": [
       "['alt.atheism', 'sci.space', 'talk.politics.guns']"
      ]
     },
     "execution_count": 11,
     "metadata": {},
     "output_type": "execute_result"
    }
   ],
   "source": [
    "train.target_names"
   ]
  },
  {
   "cell_type": "markdown",
   "id": "9ebde71a",
   "metadata": {},
   "source": [
    "We represent the documents in a bag of word format. That is, we create a data matrix ``D`` such that ``D[j,i]=1`` if the j-th document contains the i-th feature (word), and ``D[j,i]=0`` otherwise. "
   ]
  },
  {
   "cell_type": "code",
   "execution_count": 12,
   "id": "167204f0",
   "metadata": {},
   "outputs": [],
   "source": [
    "from sklearn.feature_extraction.text import CountVectorizer\n",
    "vectorizer = CountVectorizer(stop_words=\"english\", min_df=5,token_pattern=\"[^\\W\\d_]+\", binary=True)\n",
    "D = vectorizer.fit_transform(train.data)\n",
    "D_test = vectorizer.transform(test.data)"
   ]
  },
  {
   "cell_type": "markdown",
   "id": "5a9fdf2b",
   "metadata": {},
   "source": [
    "We get the allocation of feature indices to words by the following array, containing the vocabulary."
   ]
  },
  {
   "cell_type": "code",
   "execution_count": 13,
   "id": "24b0e1c5",
   "metadata": {},
   "outputs": [
    {
     "data": {
      "text/plain": [
       "array(['aa', 'aario', 'aaron', ..., 'zoology', 'zv', 'ÿ'], dtype=object)"
      ]
     },
     "execution_count": 13,
     "metadata": {},
     "output_type": "execute_result"
    }
   ],
   "source": [
    "vectorizer.get_feature_names_out()"
   ]
  },
  {
   "cell_type": "markdown",
   "id": "f6d57b38",
   "metadata": {},
   "source": [
    "For example, the word `naive` has the index 4044."
   ]
  },
  {
   "cell_type": "code",
   "execution_count": 16,
   "id": "87ace193",
   "metadata": {},
   "outputs": [
    {
     "data": {
      "text/plain": [
       "array([4044])"
      ]
     },
     "execution_count": 16,
     "metadata": {},
     "output_type": "execute_result"
    }
   ],
   "source": [
    "np.where(vectorizer.get_feature_names_out() == 'naive')[0]"
   ]
  },
  {
   "cell_type": "markdown",
   "id": "9daf68a3",
   "metadata": {},
   "source": [
    "## Decision Tree"
   ]
  },
  {
   "cell_type": "code",
   "execution_count": 17,
   "id": "f6962d9d",
   "metadata": {},
   "outputs": [],
   "source": [
    "from sklearn.datasets import load_iris\n",
    "iris = load_iris()\n",
    "D, y = iris.data, iris.target"
   ]
  },
  {
   "cell_type": "code",
   "execution_count": 18,
   "id": "07aca608",
   "metadata": {},
   "outputs": [
    {
     "name": "stdout",
     "output_type": "stream",
     "text": [
      ".. _iris_dataset:\n",
      "\n",
      "Iris plants dataset\n",
      "--------------------\n",
      "\n",
      "**Data Set Characteristics:**\n",
      "\n",
      "    :Number of Instances: 150 (50 in each of three classes)\n",
      "    :Number of Attributes: 4 numeric, predictive attributes and the class\n",
      "    :Attribute Information:\n",
      "        - sepal length in cm\n",
      "        - sepal width in cm\n",
      "        - petal length in cm\n",
      "        - petal width in cm\n",
      "        - class:\n",
      "                - Iris-Setosa\n",
      "                - Iris-Versicolour\n",
      "                - Iris-Virginica\n",
      "                \n",
      "    :Summary Statistics:\n",
      "\n",
      "    ============== ==== ==== ======= ===== ====================\n",
      "                    Min  Max   Mean    SD   Class Correlation\n",
      "    ============== ==== ==== ======= ===== ====================\n",
      "    sepal length:   4.3  7.9   5.84   0.83    0.7826\n",
      "    sepal width:    2.0  4.4   3.05   0.43   -0.4194\n",
      "    petal length:   1.0  6.9   3.76   1.76    0.9490  (high!)\n",
      "    petal width:    0.1  2.5   1.20   0.76    0.9565  (high!)\n",
      "    ============== ==== ==== ======= ===== ====================\n",
      "\n",
      "    :Missing Attribute Values: None\n",
      "    :Class Distribution: 33.3% for each of 3 classes.\n",
      "    :Creator: R.A. Fisher\n",
      "    :Donor: Michael Marshall (MARSHALL%PLU@io.arc.nasa.gov)\n",
      "    :Date: July, 1988\n",
      "\n",
      "The famous Iris database, first used by Sir R.A. Fisher. The dataset is taken\n",
      "from Fisher's paper. Note that it's the same as in R, but not as in the UCI\n",
      "Machine Learning Repository, which has two wrong data points.\n",
      "\n",
      "This is perhaps the best known database to be found in the\n",
      "pattern recognition literature.  Fisher's paper is a classic in the field and\n",
      "is referenced frequently to this day.  (See Duda & Hart, for example.)  The\n",
      "data set contains 3 classes of 50 instances each, where each class refers to a\n",
      "type of iris plant.  One class is linearly separable from the other 2; the\n",
      "latter are NOT linearly separable from each other.\n",
      "\n",
      "|details-start|\n",
      "**References**\n",
      "|details-split|\n",
      "\n",
      "- Fisher, R.A. \"The use of multiple measurements in taxonomic problems\"\n",
      "  Annual Eugenics, 7, Part II, 179-188 (1936); also in \"Contributions to\n",
      "  Mathematical Statistics\" (John Wiley, NY, 1950).\n",
      "- Duda, R.O., & Hart, P.E. (1973) Pattern Classification and Scene Analysis.\n",
      "  (Q327.D83) John Wiley & Sons.  ISBN 0-471-22361-1.  See page 218.\n",
      "- Dasarathy, B.V. (1980) \"Nosing Around the Neighborhood: A New System\n",
      "  Structure and Classification Rule for Recognition in Partially Exposed\n",
      "  Environments\".  IEEE Transactions on Pattern Analysis and Machine\n",
      "  Intelligence, Vol. PAMI-2, No. 1, 67-71.\n",
      "- Gates, G.W. (1972) \"The Reduced Nearest Neighbor Rule\".  IEEE Transactions\n",
      "  on Information Theory, May 1972, 431-433.\n",
      "- See also: 1988 MLC Proceedings, 54-64.  Cheeseman et al\"s AUTOCLASS II\n",
      "  conceptual clustering system finds 3 classes in the data.\n",
      "- Many, many more ...\n",
      "\n",
      "|details-end|\n"
     ]
    }
   ],
   "source": [
    "print(iris.DESCR)"
   ]
  },
  {
   "cell_type": "markdown",
   "id": "13e24eba",
   "metadata": {},
   "source": [
    "## SVM"
   ]
  },
  {
   "cell_type": "code",
   "execution_count": 19,
   "id": "c132e3a4",
   "metadata": {},
   "outputs": [],
   "source": [
    "# Standard scientific Python imports\n",
    "import matplotlib.pyplot as plt\n",
    "\n",
    "from sklearn import datasets\n",
    "from sklearn.model_selection import train_test_split"
   ]
  },
  {
   "cell_type": "code",
   "execution_count": 20,
   "id": "b7946aaa",
   "metadata": {},
   "outputs": [
    {
     "data": {
      "image/png": "[encoded data removed]",
      "text/plain": [
       "<Figure size 720x216 with 4 Axes>"
      ]
     },
     "metadata": {
      "needs_background": "light"
     },
     "output_type": "display_data"
    }
   ],
   "source": [
    "digits = datasets.load_digits()\n",
    "\n",
    "_, axes = plt.subplots(nrows=1, ncols=4, figsize=(10, 3))\n",
    "for ax, image, label in zip(axes, digits.images, digits.target):\n",
    "    ax.set_axis_off()\n",
    "    ax.imshow(image, cmap=plt.cm.gray_r, interpolation=\"nearest\")\n",
    "    ax.set_title(\"Label %i\" % label)"
   ]
  },
  {
   "cell_type": "code",
   "execution_count": 21,
   "id": "08ceaddc",
   "metadata": {},
   "outputs": [],
   "source": [
    "# flatten the images\n",
    "n = len(digits.images)\n",
    "D = digits.images.reshape((n, -1))\n",
    "y = digits.target\n",
    "\n",
    "# Split data into 70% train and 30% test subsets\n",
    "D_train, D_test, y_train, y_test = train_test_split(\n",
    "    D, y, test_size=0.3, shuffle=False\n",
    ")"
   ]
  }
 ],
 "metadata": {
  "kernelspec": {
   "display_name": "Python 3 (ipykernel)",
   "language": "python",
   "name": "python3"
  },
  "language_info": {
   "codemirror_mode": {
    "name": "ipython",
    "version": 3
   },
   "file_extension": ".py",
   "mimetype": "text/x-python",
   "name": "python",
   "nbconvert_exporter": "python",
   "pygments_lexer": "ipython3",
   "version": "3.10.6"
  }
 },
 "nbformat": 4,
 "nbformat_minor": 5
}
