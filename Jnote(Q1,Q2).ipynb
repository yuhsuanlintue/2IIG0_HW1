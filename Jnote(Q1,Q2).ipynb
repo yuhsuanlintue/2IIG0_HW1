{
 "cells": [
  {
   "cell_type": "code",
   "execution_count": 20,
   "metadata": {},
   "outputs": [],
   "source": [
    "import numpy as np\n",
    "from sympy import *\n",
    "import sklearn\n"
   ]
  },
  {
   "cell_type": "markdown",
   "metadata": {},
   "source": [
    "## Q1"
   ]
  },
  {
   "cell_type": "code",
   "execution_count": 21,
   "metadata": {},
   "outputs": [],
   "source": [
    "x, w, b = symbols('x w b')\n",
    "Q1_f = - log(1/(1 + exp(w + b))) -log(1/(1 + exp(1.5 * w + b))) -log(1/(1 + exp(-2 * w - b)))\n",
    "def gradient(value_of_w, value_of_b):\n",
    "    # Q1_f_lambda = lambdify([w,b], Q1_f)\n",
    "    df_dw = lambdify([w,b],Q1_f.diff(w))\n",
    "    df_db = lambdify([w,b],Q1_f.diff(b))\n",
    "    return (df_dw(value_of_w,value_of_b) , df_db(value_of_w,value_of_b))\n"
   ]
  },
  {
   "cell_type": "code",
   "execution_count": 22,
   "metadata": {},
   "outputs": [],
   "source": [
    "def eta_const(t,c=0.2):\n",
    "    return c\n",
    "\n",
    "def eta_sqrt(t, c=0.2):\n",
    "    return c/np.sqrt(t+1)\n",
    "\n",
    "def eta_multistep(t, milestones=[20,50,80], c=0.2, eta_init=0.2):\n",
    "    e = 0\n",
    "    for i in range(len(milestones)):\n",
    "        if(t >= milestones[i]):\n",
    "            e = i+1\n",
    "            # print(e)\n",
    "    return eta_init * (c ** e)\n",
    "\n",
    "# print(eta_multistep(51, [20,50], c= 0.1, eta_init=1))"
   ]
  },
  {
   "cell_type": "code",
   "execution_count": 23,
   "metadata": {},
   "outputs": [
    {
     "name": "stdout",
     "output_type": "stream",
     "text": [
      "min f(wi, bi): 1.14314704610915\n",
      "Q1a 1.14314704610915 \n",
      "\n",
      "min f(wi, bi): 1.84309970497597\n",
      "Q1b 1.84309970497597 \n",
      "\n",
      "min f(wi, bi): 1.72877172091323\n",
      "Q1c 1.72877172091323 \n",
      "\n"
     ]
    }
   ],
   "source": [
    "\n",
    "\n",
    "def gradient_descent(f, grad_f, eta, w0_b0, max_iter=100):\n",
    "    xt = w0_b0\n",
    "    current_Min = np.inf\n",
    "    for i in range(1, max_iter +1):\n",
    "        w_i, b_i = grad_f(xt[0], xt[1])\n",
    "        xt = (xt[0] - eta(i) * w_i, xt[1] - eta(i) * b_i)\n",
    "        f_wb = f.subs({w: float(xt[0]), b: float(xt[1])})\n",
    "        if (f_wb < current_Min): #for subquestion\n",
    "            current_Min = f_wb\n",
    "    print(f\"min f(wi, bi): {current_Min}\")\n",
    "    return Q1_f.subs({w: xt[0],b: xt[1]})\n",
    "\n",
    "\n",
    "print(\"Q1a\", gradient_descent(Q1_f, gradient, eta_const, (1, 1)), \"\\n\") #Q1a\n",
    "print(\"Q1b\", gradient_descent(Q1_f, gradient, eta_sqrt, (1,1)), \"\\n\") #Q1b\n",
    "print(\"Q1c\", gradient_descent(Q1_f, gradient, eta_multistep, (1,1)), \"\\n\") #Q1c\n"
   ]
  },
  {
   "cell_type": "markdown",
   "metadata": {},
   "source": [
    "## Q2\n",
    "\n",
    "### Q2a"
   ]
  },
  {
   "cell_type": "code",
   "execution_count": 24,
   "metadata": {},
   "outputs": [
    {
     "data": {
      "text/plain": [
       "(1.14471424255333, [-1], [-3/2])"
      ]
     },
     "execution_count": 24,
     "metadata": {},
     "output_type": "execute_result"
    }
   ],
   "source": [
    "x1, x2 , x3 = symbols('x_1 x_2 x_3')\n",
    "x0 = (2,3,4)\n",
    "Q2_f = 1/2*x1 ** 4 - x1 * x2 + x2 **2 + x2 * x3 + x3 **2\n",
    "# Q2_f\n",
    "\n",
    "Q2_f_lambda = lambdify([x1, x2 , x3], Q2_f)\n",
    "\n",
    "def argmin_x1(x0):\n",
    "    return solve(Eq(Q2_f_lambda(x1,x0[1],x0[2]).diff(x1), 0), x1)\n",
    "def argmin_x2(x0):\n",
    "    return solve(Eq(Q2_f_lambda(x0[0],x2,x0[2]).diff(x2), 0), x2)\n",
    "def argmin_x3(x0):\n",
    "    return solve(Eq(Q2_f_lambda(x0[0],x0[1],x3).diff(x3), 0), x3)\n",
    "\n",
    "\n",
    "argmin_x1(x0)[0], argmin_x2(x0), argmin_x3(x0)\n"
   ]
  },
  {
   "cell_type": "markdown",
   "metadata": {},
   "source": [
    "## Q2b"
   ]
  },
  {
   "cell_type": "code",
   "execution_count": 25,
   "metadata": {},
   "outputs": [
    {
     "name": "stdout",
     "output_type": "stream",
     "text": [
      "1 iteration (2.15443469003188, -2, -10)\n",
      "100 iteration (-0.577350269189627, 0.384900179459754, 0.192450089729876)\n"
     ]
    }
   ],
   "source": [
    "\n",
    "def coordinate_descent(f, argmin, x_0, max_iter=100):\n",
    "    x_t = x_0\n",
    "    # print(f\"0: {x_t}\")\n",
    "\n",
    "\n",
    "    for i in range(1,max_iter+1):\n",
    "        x_t = (argmin[0](x_t)[0],argmin[1](x_t)[0],argmin[2](x_t)[0])\n",
    "        # print(f\"{i}: {x_t}\")\n",
    "        \n",
    "    return x_t\n",
    "\n",
    "argmin = [argmin_x1, argmin_x2, argmin_x3]\n",
    "x_0 = (1,20,5)\n",
    "print(\"1 iteration\", coordinate_descent(Q2_f, argmin, x_0, 1))\n",
    "print(\"100 iteration\", coordinate_descent(Q2_f, argmin, x_0, 100))\n"
   ]
  }
 ],
 "metadata": {
  "kernelspec": {
   "display_name": "Python 3",
   "language": "python",
   "name": "python3"
  },
  "language_info": {
   "codemirror_mode": {
    "name": "ipython",
    "version": 3
   },
   "file_extension": ".py",
   "mimetype": "text/x-python",
   "name": "python",
   "nbconvert_exporter": "python",
   "pygments_lexer": "ipython3",
   "version": "3.10.6"
  }
 },
 "nbformat": 4,
 "nbformat_minor": 2
}
